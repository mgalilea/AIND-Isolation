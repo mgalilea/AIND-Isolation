{
 "cells": [
  {
   "cell_type": "code",
   "execution_count": 49,
   "metadata": {
    "collapsed": false
   },
   "outputs": [],
   "source": [
    "from random import randint\n",
    "\n",
    "\n",
    "def null_score(game, player):\n",
    "    \"\"\"This heuristic presumes no knowledge for non-terminal states, and\n",
    "    returns the same uninformative value for all other states.\n",
    "\n",
    "    Parameters\n",
    "    ----------\n",
    "    game : `isolation.Board`\n",
    "        An instance of `isolation.Board` encoding the current state of the\n",
    "        game (e.g., player locations and blocked cells).\n",
    "\n",
    "    player : hashable\n",
    "        One of the objects registered by the game object as a valid player.\n",
    "        (i.e., `player` should be either game.__player_1__ or\n",
    "        game.__player_2__).\n",
    "\n",
    "    Returns\n",
    "    ----------\n",
    "    float\n",
    "        The heuristic value of the current game state.\n",
    "    \"\"\"\n",
    "\n",
    "    if game.is_loser(player):\n",
    "        return float(\"-inf\")\n",
    "\n",
    "    if game.is_winner(player):\n",
    "        return float(\"inf\")\n",
    "\n",
    "    return 0.\n",
    "\n",
    "\n",
    "def open_move_score(game, player):\n",
    "    \"\"\"The basic evaluation function described in lecture that outputs a score\n",
    "    equal to the number of moves open for your computer player on the board.\n",
    "\n",
    "    Parameters\n",
    "    ----------\n",
    "    game : `isolation.Board`\n",
    "        An instance of `isolation.Board` encoding the current state of the\n",
    "        game (e.g., player locations and blocked cells).\n",
    "\n",
    "    player : hashable\n",
    "        One of the objects registered by the game object as a valid player.\n",
    "        (i.e., `player` should be either game.__player_1__ or\n",
    "        game.__player_2__).\n",
    "\n",
    "    Returns\n",
    "    ----------\n",
    "    float\n",
    "        The heuristic value of the current game state\n",
    "    \"\"\"\n",
    "    if game.is_loser(player):\n",
    "        return float(\"-inf\")\n",
    "\n",
    "    if game.is_winner(player):\n",
    "        return float(\"inf\")\n",
    "\n",
    "    return float(len(game.get_legal_moves(player)))\n",
    "\n",
    "\n",
    "def improved_score(game, player):\n",
    "    \"\"\"The \"Improved\" evaluation function discussed in lecture that outputs a\n",
    "    score equal to the difference in the number of moves available to the\n",
    "    two players.\n",
    "\n",
    "    Parameters\n",
    "    ----------\n",
    "    game : `isolation.Board`\n",
    "        An instance of `isolation.Board` encoding the current state of the\n",
    "        game (e.g., player locations and blocked cells).\n",
    "\n",
    "    player : hashable\n",
    "        One of the objects registered by the game object as a valid player.\n",
    "        (i.e., `player` should be either game.__player_1__ or\n",
    "        game.__player_2__).\n",
    "\n",
    "    Returns\n",
    "    ----------\n",
    "    float\n",
    "        The heuristic value of the current game state\n",
    "    \"\"\"\n",
    "    if game.is_loser(player):\n",
    "        return float(\"-inf\")\n",
    "\n",
    "    if game.is_winner(player):\n",
    "        return float(\"inf\")\n",
    "\n",
    "    own_moves = len(game.get_legal_moves(player))\n",
    "    opp_moves = len(game.get_legal_moves(game.get_opponent(player)))\n",
    "    return float(own_moves - opp_moves)\n",
    "\n",
    "\n",
    "def center_score(game, player):\n",
    "    \"\"\"Outputs a score equal to square of the distance from the center of the\n",
    "    board to the position of the player.\n",
    "\n",
    "    This heuristic is only used by the autograder for testing.\n",
    "\n",
    "    Parameters\n",
    "    ----------\n",
    "    game : `isolation.Board`\n",
    "        An instance of `isolation.Board` encoding the current state of the\n",
    "        game (e.g., player locations and blocked cells).\n",
    "\n",
    "    player : hashable\n",
    "        One of the objects registered by the game object as a valid player.\n",
    "        (i.e., `player` should be either game.__player_1__ or\n",
    "        game.__player_2__).\n",
    "\n",
    "    Returns\n",
    "    ----------\n",
    "    float\n",
    "        The heuristic value of the current game state\n",
    "    \"\"\"\n",
    "    if game.is_loser(player):\n",
    "        return float(\"-inf\")\n",
    "\n",
    "    if game.is_winner(player):\n",
    "        return float(\"inf\")\n",
    "\n",
    "    w, h = game.width / 2., game.height / 2.\n",
    "    y, x = game.get_player_location(player)\n",
    "    return float((h - y)**2 + (w - x)**2)\n",
    "\n",
    "\n",
    "class RandomPlayer():\n",
    "    \"\"\"Player that chooses a move randomly.\"\"\"\n",
    "\n",
    "    def get_move(self, game, time_left):\n",
    "        \"\"\"Randomly select a move from the available legal moves.\n",
    "\n",
    "        Parameters\n",
    "        ----------\n",
    "        game : `isolation.Board`\n",
    "            An instance of `isolation.Board` encoding the current state of the\n",
    "            game (e.g., player locations and blocked cells).\n",
    "\n",
    "        time_left : callable\n",
    "            A function that returns the number of milliseconds left in the\n",
    "            current turn. Returning with any less than 0 ms remaining forfeits\n",
    "            the game.\n",
    "\n",
    "        Returns\n",
    "        ----------\n",
    "        (int, int)\n",
    "            A randomly selected legal move; may return (-1, -1) if there are\n",
    "            no available legal moves.\n",
    "        \"\"\"\n",
    "        legal_moves = game.get_legal_moves()\n",
    "        if not legal_moves:\n",
    "            return (-1, -1)\n",
    "        return legal_moves[randint(0, len(legal_moves) - 1)]\n",
    "\n",
    "\n",
    "class GreedyPlayer():\n",
    "    \"\"\"Player that chooses next move to maximize heuristic score. This is\n",
    "    equivalent to a minimax search agent with a search depth of one.\n",
    "    \"\"\"\n",
    "\n",
    "    def __init__(self, score_fn=open_move_score):\n",
    "        self.score = score_fn\n",
    "\n",
    "    def get_move(self, game, time_left):\n",
    "        \"\"\"Select the move from the available legal moves with the highest\n",
    "        heuristic score.\n",
    "\n",
    "        Parameters\n",
    "        ----------\n",
    "        game : `isolation.Board`\n",
    "            An instance of `isolation.Board` encoding the current state of the\n",
    "            game (e.g., player locations and blocked cells).\n",
    "\n",
    "        time_left : callable\n",
    "            A function that returns the number of milliseconds left in the\n",
    "            current turn. Returning with any less than 0 ms remaining forfeits\n",
    "            the game.\n",
    "\n",
    "        Returns\n",
    "        ----------\n",
    "        (int, int)\n",
    "            The move in the legal moves list with the highest heuristic score\n",
    "            for the current game state; may return (-1, -1) if there are no\n",
    "            legal moves.\n",
    "        \"\"\"\n",
    "        legal_moves = game.get_legal_moves()\n",
    "        if not legal_moves:\n",
    "            return (-1, -1)\n",
    "        _, move = max([(self.score(game.forecast_move(m), self), m) for m in legal_moves])\n",
    "        return move\n",
    "\n",
    "\n",
    "class HumanPlayer():\n",
    "    \"\"\"Player that chooses a move according to user's input.\"\"\"\n",
    "\n",
    "    def get_move(self, game, time_left):\n",
    "        \"\"\"\n",
    "        Select a move from the available legal moves based on user input at the\n",
    "        terminal.\n",
    "\n",
    "        **********************************************************************\n",
    "        NOTE: If testing with this player, remember to disable move timeout in\n",
    "              the call to `Board.play()`.\n",
    "        **********************************************************************\n",
    "\n",
    "        Parameters\n",
    "        ----------\n",
    "        game : `isolation.Board`\n",
    "            An instance of `isolation.Board` encoding the current state of the\n",
    "            game (e.g., player locations and blocked cells).\n",
    "\n",
    "        time_left : callable\n",
    "            A function that returns the number of milliseconds left in the\n",
    "            current turn. Returning with any less than 0 ms remaining forfeits\n",
    "            the game.\n",
    "\n",
    "        Returns\n",
    "        ----------\n",
    "        (int, int)\n",
    "            The move in the legal moves list selected by the user through the\n",
    "            terminal prompt; automatically return (-1, -1) if there are no\n",
    "            legal moves\n",
    "        \"\"\"\n",
    "        legal_moves = game.get_legal_moves()\n",
    "        if not legal_moves:\n",
    "            return (-1, -1)\n",
    "\n",
    "        print(game.to_string()) #display the board for the human player\n",
    "        print(('\\t'.join(['[%d] %s' % (i, str(move)) for i, move in enumerate(legal_moves)])))\n",
    "\n",
    "        valid_choice = False\n",
    "        while not valid_choice:\n",
    "            try:\n",
    "                index = int(input('Select move index:'))\n",
    "                valid_choice = 0 <= index < len(legal_moves)\n",
    "\n",
    "                if not valid_choice:\n",
    "                    print('Illegal move! Try again.')\n",
    "\n",
    "            except ValueError:\n",
    "                print('Invalid index! Try again.')\n",
    "\n",
    "        return legal_moves[index]\n",
    "\n",
    "class Minimax():\n",
    "    \n",
    "    def minimax(self, game, depth):\n",
    "        \"\"\"Implement depth-limited minimax search algorithm as described in\n",
    "        the lectures.\n",
    "\n",
    "        This should be a modified version of MINIMAX-DECISION in the AIMA text.\n",
    "        https://github.com/aimacode/aima-pseudocode/blob/master/md/Minimax-Decision.md\n",
    "\n",
    "        **********************************************************************\n",
    "            You MAY add additional methods to this class, or define helper\n",
    "                 functions to implement the required functionality.\n",
    "        **********************************************************************\n",
    "\n",
    "        Parameters\n",
    "        ----------\n",
    "        game : isolation.Board\n",
    "            An instance of the Isolation game `Board` class representing the\n",
    "            current game state\n",
    "\n",
    "        depth : int\n",
    "            Depth is an integer representing the maximum number of plies to\n",
    "            search in the game tree before aborting\n",
    "\n",
    "        Returns\n",
    "        -------\n",
    "        (int, int)\n",
    "            The board coordinates of the best move found in the current search;\n",
    "            (-1, -1) if there are no legal moves\n",
    "\n",
    "        Notes\n",
    "        -----\n",
    "            (1) You MUST use the `self.score()` method for board evaluation\n",
    "                to pass the project tests; you cannot call any other evaluation\n",
    "                function directly.\n",
    "\n",
    "            (2) If you use any helper functions (e.g., as shown in the AIMA\n",
    "                pseudocode) then you must copy the timer check into the top of\n",
    "                each helper function or else your agent will timeout during\n",
    "                testing.\n",
    "        \"\"\"\n",
    "        #if self.time_left() < self.TIMER_THRESHOLD:\n",
    "         #   raise SearchTimeout()\n",
    "\n",
    "        # TODO: finish this function!\n",
    "        # Starting the value to control the depth of the search\n",
    "        i_depth=0\n",
    "        # Initializing the lis to store the utilities values\n",
    "        utility=[]\n",
    "        # First I get the legal moves for the actual state of the board\n",
    "        legal_moves=game.get_legal_moves()\n",
    "        # I made an iteration to get the utility value for each move aplying minmax\n",
    "        for idx in range(len(legal_moves)):\n",
    "            #I get a new game apliying the first move\n",
    "            new_game= game.forecast_move(legal_moves[idx])\n",
    "            utility=utility.append(min_value(new_game,i_depth,depth))\n",
    "        #Taking the maximun value from the utility\n",
    "        max_utility=max(utility)\n",
    "            \n",
    "        return legal_moves[utility.index(max_utility)]\n",
    "    \n",
    "        #raise NotImplementedError\n",
    "\n",
    "    def max_value(self,game, i_depth, depth):\n",
    "        \"\"\" Implement a function to obtain the max value of a tree \n",
    "        \n",
    "        \n",
    "        Parameters\n",
    "        ----------\n",
    "        game : isolation.Board\n",
    "            An instance of the Isolation game `Board` class representing the\n",
    "            current game state\n",
    "\n",
    "        i_depth : int\n",
    "            i_depth represent the plie in wich we are searching\n",
    "        \n",
    "        depth : int\n",
    "            Depth is an integer representing the maximum number of plies to\n",
    "            search in the game tree before aborting\n",
    "        \n",
    "\n",
    "        Returns\n",
    "        -------\n",
    "        int        \n",
    "            The utility value for the movement\n",
    "        \"\"\"\n",
    "        utility=[]\n",
    "        i_depth+=1\n",
    "        \n",
    "        if terminal_test(game) or (i_depth>depth):\n",
    "            return self.score(game)\n",
    "        \n",
    "        legal_moves=game.get_legal_moves()\n",
    "        \n",
    "        for idx in range(len(legal_moves)):\n",
    "            new_game=game.forecast_move(legal_moves[idx])\n",
    "            utility=utility.append(min_value(new_game))\n",
    "        \n",
    "        return max(utility)\n",
    "    \n",
    "    def min_value(self,game,i_depth, depth):\n",
    "        \"\"\" Implement a function to obtain the min value of a tree \n",
    "        \n",
    "        \n",
    "        Parameters\n",
    "        ----------\n",
    "        game : isolation.Board\n",
    "            An instance of the Isolation game `Board` class representing the\n",
    "            current game state\n",
    "        \n",
    "        i_depth : int\n",
    "            i_depth represent the plie in wich we are searching\n",
    "\n",
    "        depth : int\n",
    "            Depth is an integer representing the maximum number of plies to\n",
    "            search in the game tree before aborting\n",
    "\n",
    "        Returns\n",
    "        -------\n",
    "        int        \n",
    "            The utility value for the movement\n",
    "        \"\"\"\n",
    "        utility=[]\n",
    "        i_depth+=1\n",
    "        \n",
    "        if terminal_test(game) or (i_depth>depth):\n",
    "            return self.score(game)\n",
    "        \n",
    "        legal_moves=game.get_legal_moves()\n",
    "        \n",
    "        for idx in range(len(legal_moves)):\n",
    "            new_game=game.forecast_move(legal_moves[idx])\n",
    "            utility=utility.append(max_value(new_game))\n",
    "        \n",
    "        return min(utility)\n",
    "        \n",
    "    def terminal_test(self,game):\n",
    "        \"\"\" Determine if the game is at the end for the player\n",
    "        \n",
    "        Parameters\n",
    "        ----------\n",
    "        game : isolation.Board\n",
    "            An instance of the Isolation game `Board` class representing the\n",
    "            current game state\n",
    "        \n",
    "        Returns\n",
    "        -------\n",
    "        boolean        \n",
    "            if the legal_moves=0 then is the end of the game \n",
    "        \"\"\"\n",
    "            \n",
    "        moves=game.get_legal_moves()\n",
    "        \n",
    "        if len(moves)==0:\n",
    "            return True\n",
    "        return False\n",
    "    "
   ]
  },
  {
   "cell_type": "code",
   "execution_count": 50,
   "metadata": {
    "collapsed": true
   },
   "outputs": [],
   "source": [
    "from isolation import Board"
   ]
  },
  {
   "cell_type": "code",
   "execution_count": 51,
   "metadata": {
    "collapsed": true
   },
   "outputs": [],
   "source": [
    "player1 = RandomPlayer()\n",
    "player2 = GreedyPlayer()\n",
    "game = Board(player1, player2)"
   ]
  },
  {
   "cell_type": "code",
   "execution_count": 52,
   "metadata": {
    "collapsed": false
   },
   "outputs": [],
   "source": [
    "minimax=Minimax()"
   ]
  },
  {
   "cell_type": "code",
   "execution_count": 53,
   "metadata": {
    "collapsed": false
   },
   "outputs": [
    {
     "ename": "TypeError",
     "evalue": "terminal_test() missing 1 required positional argument: 'game'",
     "output_type": "error",
     "traceback": [
      "\u001b[0;31m---------------------------------------------------------------------------\u001b[0m",
      "\u001b[0;31mTypeError\u001b[0m                                 Traceback (most recent call last)",
      "\u001b[0;32m<ipython-input-53-0e149fb36768>\u001b[0m in \u001b[0;36m<module>\u001b[0;34m()\u001b[0m\n\u001b[0;32m----> 1\u001b[0;31m \u001b[0mminimax\u001b[0m\u001b[1;33m.\u001b[0m\u001b[0mminimax\u001b[0m\u001b[1;33m(\u001b[0m\u001b[0mgame\u001b[0m\u001b[1;33m,\u001b[0m\u001b[1;36m3\u001b[0m\u001b[1;33m)\u001b[0m\u001b[1;33m\u001b[0m\u001b[0m\n\u001b[0m",
      "\u001b[0;32m<ipython-input-49-84d694580072>\u001b[0m in \u001b[0;36mminimax\u001b[0;34m(self, game, depth)\u001b[0m\n\u001b[1;32m    299\u001b[0m             \u001b[1;31m#I get a new game apliying the first move\u001b[0m\u001b[1;33m\u001b[0m\u001b[1;33m\u001b[0m\u001b[0m\n\u001b[1;32m    300\u001b[0m             \u001b[0mnew_game\u001b[0m\u001b[1;33m=\u001b[0m \u001b[0mgame\u001b[0m\u001b[1;33m.\u001b[0m\u001b[0mforecast_move\u001b[0m\u001b[1;33m(\u001b[0m\u001b[0mlegal_moves\u001b[0m\u001b[1;33m[\u001b[0m\u001b[0midx\u001b[0m\u001b[1;33m]\u001b[0m\u001b[1;33m)\u001b[0m\u001b[1;33m\u001b[0m\u001b[0m\n\u001b[0;32m--> 301\u001b[0;31m             \u001b[0mutility\u001b[0m\u001b[1;33m=\u001b[0m\u001b[0mutility\u001b[0m\u001b[1;33m.\u001b[0m\u001b[0mappend\u001b[0m\u001b[1;33m(\u001b[0m\u001b[0mmin_value\u001b[0m\u001b[1;33m(\u001b[0m\u001b[0mnew_game\u001b[0m\u001b[1;33m,\u001b[0m\u001b[0mi_depth\u001b[0m\u001b[1;33m,\u001b[0m\u001b[0mdepth\u001b[0m\u001b[1;33m)\u001b[0m\u001b[1;33m)\u001b[0m\u001b[1;33m\u001b[0m\u001b[0m\n\u001b[0m\u001b[1;32m    302\u001b[0m         \u001b[1;31m#Taking the maximun value from the utility\u001b[0m\u001b[1;33m\u001b[0m\u001b[1;33m\u001b[0m\u001b[0m\n\u001b[1;32m    303\u001b[0m         \u001b[0mmax_utility\u001b[0m\u001b[1;33m=\u001b[0m\u001b[0mmax\u001b[0m\u001b[1;33m(\u001b[0m\u001b[0mutility\u001b[0m\u001b[1;33m)\u001b[0m\u001b[1;33m\u001b[0m\u001b[0m\n",
      "\u001b[0;32m<ipython-input-23-b9ec962cc15f>\u001b[0m in \u001b[0;36mmin_value\u001b[0;34m(self, game, depth)\u001b[0m\n\u001b[1;32m    351\u001b[0m         \u001b[0mutility\u001b[0m\u001b[1;33m=\u001b[0m\u001b[1;33m[\u001b[0m\u001b[1;33m]\u001b[0m\u001b[1;33m\u001b[0m\u001b[0m\n\u001b[1;32m    352\u001b[0m \u001b[1;33m\u001b[0m\u001b[0m\n\u001b[0;32m--> 353\u001b[0;31m         \u001b[1;32mif\u001b[0m \u001b[0mterminal_test\u001b[0m\u001b[1;33m(\u001b[0m\u001b[0mgame\u001b[0m\u001b[1;33m)\u001b[0m\u001b[1;33m:\u001b[0m\u001b[1;33m\u001b[0m\u001b[0m\n\u001b[0m\u001b[1;32m    354\u001b[0m             \u001b[1;32mreturn\u001b[0m \u001b[0mself\u001b[0m\u001b[1;33m.\u001b[0m\u001b[0mscore\u001b[0m\u001b[1;33m(\u001b[0m\u001b[0mgame\u001b[0m\u001b[1;33m)\u001b[0m\u001b[1;33m\u001b[0m\u001b[0m\n\u001b[1;32m    355\u001b[0m \u001b[1;33m\u001b[0m\u001b[0m\n",
      "\u001b[0;31mTypeError\u001b[0m: terminal_test() missing 1 required positional argument: 'game'"
     ]
    }
   ],
   "source": [
    "minimax.minimax(game,3)"
   ]
  },
  {
   "cell_type": "code",
   "execution_count": 36,
   "metadata": {
    "collapsed": false
   },
   "outputs": [],
   "source": [
    "minimax=Minimax()"
   ]
  },
  {
   "cell_type": "code",
   "execution_count": 37,
   "metadata": {
    "collapsed": false
   },
   "outputs": [
    {
     "data": {
      "text/plain": [
       "False"
      ]
     },
     "execution_count": 37,
     "metadata": {},
     "output_type": "execute_result"
    }
   ],
   "source": [
    "minimax.terminal_test(game)"
   ]
  },
  {
   "cell_type": "code",
   "execution_count": 8,
   "metadata": {
    "collapsed": false
   },
   "outputs": [
    {
     "data": {
      "text/plain": [
       "8"
      ]
     },
     "execution_count": 8,
     "metadata": {},
     "output_type": "execute_result"
    }
   ],
   "source": [
    "len(legal_moves)"
   ]
  },
  {
   "cell_type": "code",
   "execution_count": 11,
   "metadata": {
    "collapsed": false
   },
   "outputs": [
    {
     "name": "stdout",
     "output_type": "stream",
     "text": [
      "0\n",
      "(4, 2)\n",
      "1\n",
      "(1, 1)\n",
      "2\n",
      "(3, 1)\n",
      "3\n",
      "(0, 2)\n",
      "4\n",
      "(1, 5)\n",
      "5\n",
      "(4, 4)\n",
      "6\n",
      "(0, 4)\n",
      "7\n",
      "(3, 5)\n"
     ]
    }
   ],
   "source": [
    "for idx in range(len(legal_moves)):\n",
    "    print(idx)\n",
    "    print(legal_moves[idx])"
   ]
  },
  {
   "cell_type": "code",
   "execution_count": 13,
   "metadata": {
    "collapsed": false
   },
   "outputs": [],
   "source": [
    "new_game = game.forecast_move(legal_moves[0])"
   ]
  },
  {
   "cell_type": "code",
   "execution_count": 15,
   "metadata": {
    "collapsed": false
   },
   "outputs": [
    {
     "name": "stdout",
     "output_type": "stream",
     "text": [
      "     0   1   2   3   4   5   6\n",
      "\r",
      "0  |   |   |   |   |   | 2 |   | \n",
      "\r",
      "1  |   |   |   |   |   |   |   | \n",
      "\r",
      "2  |   |   |   | - |   |   |   | \n",
      "\r",
      "3  |   |   |   |   |   |   |   | \n",
      "\r",
      "4  |   |   | 1 |   |   |   |   | \n",
      "\r",
      "5  |   |   |   |   |   |   |   | \n",
      "\r",
      "6  |   |   |   |   |   |   |   | \n",
      "\r\n"
     ]
    }
   ],
   "source": [
    "print(new_game.to_string())"
   ]
  },
  {
   "cell_type": "code",
   "execution_count": 17,
   "metadata": {
    "collapsed": false
   },
   "outputs": [
    {
     "name": "stdout",
     "output_type": "stream",
     "text": [
      "false\n"
     ]
    }
   ],
   "source": [
    "if len(legal_moves)==0:\n",
    "    print(\"true\")\n",
    "print(\"false\")"
   ]
  },
  {
   "cell_type": "code",
   "execution_count": 19,
   "metadata": {
    "collapsed": true
   },
   "outputs": [],
   "source": [
    "lista=[]"
   ]
  },
  {
   "cell_type": "code",
   "execution_count": 20,
   "metadata": {
    "collapsed": false
   },
   "outputs": [
    {
     "name": "stdout",
     "output_type": "stream",
     "text": [
      "[1, 2, 3, 4, 5]\n"
     ]
    }
   ],
   "source": [
    "lista.append(1)\n",
    "lista.append(2)\n",
    "lista.append(3)\n",
    "lista.append(4)\n",
    "lista.append(5)\n",
    "print(lista)"
   ]
  },
  {
   "cell_type": "code",
   "execution_count": 21,
   "metadata": {
    "collapsed": false
   },
   "outputs": [
    {
     "data": {
      "text/plain": [
       "1"
      ]
     },
     "execution_count": 21,
     "metadata": {},
     "output_type": "execute_result"
    }
   ],
   "source": [
    "min(lista)"
   ]
  },
  {
   "cell_type": "code",
   "execution_count": 22,
   "metadata": {
    "collapsed": false
   },
   "outputs": [
    {
     "data": {
      "text/plain": [
       "5"
      ]
     },
     "execution_count": 22,
     "metadata": {},
     "output_type": "execute_result"
    }
   ],
   "source": [
    "max(lista)"
   ]
  },
  {
   "cell_type": "code",
   "execution_count": 38,
   "metadata": {
    "collapsed": false
   },
   "outputs": [
    {
     "data": {
      "text/plain": [
       "2"
      ]
     },
     "execution_count": 38,
     "metadata": {},
     "output_type": "execute_result"
    }
   ],
   "source": [
    "lista.index(3)"
   ]
  },
  {
   "cell_type": "code",
   "execution_count": 39,
   "metadata": {
    "collapsed": true
   },
   "outputs": [],
   "source": [
    "pepe=1\n",
    "pepe+=1\n"
   ]
  },
  {
   "cell_type": "code",
   "execution_count": 40,
   "metadata": {
    "collapsed": false
   },
   "outputs": [
    {
     "data": {
      "text/plain": [
       "2"
      ]
     },
     "execution_count": 40,
     "metadata": {},
     "output_type": "execute_result"
    }
   ],
   "source": [
    "pepe"
   ]
  },
  {
   "cell_type": "code",
   "execution_count": null,
   "metadata": {
    "collapsed": true
   },
   "outputs": [],
   "source": []
  }
 ],
 "metadata": {
  "kernelspec": {
   "display_name": "Python 3",
   "language": "python",
   "name": "python3"
  },
  "language_info": {
   "codemirror_mode": {
    "name": "ipython",
    "version": 3
   },
   "file_extension": ".py",
   "mimetype": "text/x-python",
   "name": "python",
   "nbconvert_exporter": "python",
   "pygments_lexer": "ipython3",
   "version": "3.5.2"
  }
 },
 "nbformat": 4,
 "nbformat_minor": 2
}
